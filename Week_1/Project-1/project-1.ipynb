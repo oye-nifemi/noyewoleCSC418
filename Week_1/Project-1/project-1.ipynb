{
 "cells": [
  {
   "cell_type": "code",
   "execution_count": 49,
   "metadata": {},
   "outputs": [],
   "source": [
    "import cv2\n",
    "import os"
   ]
  },
  {
   "cell_type": "code",
   "execution_count": 54,
   "metadata": {},
   "outputs": [],
   "source": [
    "def login():\n",
    "    username = input(\"Enter your username: \")\n",
    "    \n",
    "    image_path = f\"C:/Users/Oluwanifemi Oyewole/Desktop/PAU/YEAR 4/Semester 2/CSC 418 - Special Topics in Computer Science/Practice/noyewoleCSC418/Week_1/Project-1/face-images/{username}.jpg\"\n",
    "    \n",
    "    if os.path.exists(image_path):\n",
    "        password = input(\"Enter your password (number of alphabets in your username): \")\n",
    "\n",
    "        if len(username) == int(password):\n",
    "            print(f\"Welcome, {username}!\")\n",
    "\n",
    "            with open(f\"C:/Users/Oluwanifemi Oyewole/Desktop/PAU/YEAR 4/Semester 2/CSC 418 - Special Topics in Computer Science/Practice/noyewoleCSC418/Week_1/Project-1/profile-info/{username}.txt\", \"r\") as file:\n",
    "                profile_info = file.read()\n",
    "                print(\"\")\n",
    "                print(\"User Profile:\")\n",
    "                print(profile_info)\n",
    "\n",
    "            image = cv2.imread(image_path)\n",
    "            cv2.imshow(\"Profile Image\", image)\n",
    "            cv2.waitKey(0)\n",
    "            cv2.destroyAllWindows()\n",
    "        else:\n",
    "            print(\"Incorrect password.\")\n",
    "    else:\n",
    "        print(\"User not found.\")"
   ]
  },
  {
   "cell_type": "code",
   "execution_count": 55,
   "metadata": {},
   "outputs": [
    {
     "name": "stdout",
     "output_type": "stream",
     "text": [
      "Welcome, onaga!\n",
      "\n",
      "User Profile:\n",
      "Dr. Adaora Ijeoma Onaga\n",
      "\n",
      "Dr. Adaora Ijeoma Onaga is the Director of the Institute of Humanities, Pan-Atlantic University (PAU). She holds an MBBS degree from the University of Ibadan where she studied medicine and surgery under the Mobil scholarship for deserving students. She specialised in Internal Medicine and Nephrology at the College of Medicine, University of Ibadan from 2005-2011. During her speciality training, she was awarded the O.O Elegbeleye Prize for the best candidate in the National Medical College Examinations in May 2008 and again in May 2011 the A.F.B Mabadeje Prize for the best candidate in the National Medical College Examinations (Renal medicine). She is a fellow of both the National Postgraduate Medical College and the West African College of Physicians.\n",
      "She holds an M.Sc. Degree in Philosophy from the Pontifical University of the Holy Cross, Rome, Italy, with a Summa cum laude (9.9/10). Her licentiate thesis was a study of the Phenomenology of Illness in S K Toombs. She also holds a PhD in Philosophy awarded in October 2020 from the Pontifical University of the Holy Cross, Rome with a Summa cum Laude (10/10).\n"
     ]
    }
   ],
   "source": [
    "login()"
   ]
  }
 ],
 "metadata": {
  "kernelspec": {
   "display_name": "Python 3",
   "language": "python",
   "name": "python3"
  },
  "language_info": {
   "codemirror_mode": {
    "name": "ipython",
    "version": 3
   },
   "file_extension": ".py",
   "mimetype": "text/x-python",
   "name": "python",
   "nbconvert_exporter": "python",
   "pygments_lexer": "ipython3",
   "version": "3.11.0"
  }
 },
 "nbformat": 4,
 "nbformat_minor": 2
}
