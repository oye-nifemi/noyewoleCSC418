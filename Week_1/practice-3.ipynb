{
 "cells": [
  {
   "cell_type": "code",
   "execution_count": 1,
   "metadata": {},
   "outputs": [],
   "source": [
    "# program to explain cv2.imwrite() method\n",
    "\n",
    "import cv2"
   ]
  },
  {
   "cell_type": "code",
   "execution_count": 2,
   "metadata": {},
   "outputs": [],
   "source": [
    "# import os module\n",
    "\n",
    "import os"
   ]
  },
  {
   "cell_type": "code",
   "execution_count": 3,
   "metadata": {},
   "outputs": [],
   "source": [
    "# image path\n",
    "\n",
    "image_path = r'C:\\Users\\Oluwanifemi Oyewole\\Desktop\\PAU\\YEAR 4\\Semester 2\\CSC 418 - Special Topics in Computer Science\\Practice\\noyewoleCSC418\\Week_1\\img\\comic.png'\n",
    "\n",
    "# image directory\n",
    "image_directory = r'C:\\Users\\Oluwanifemi Oyewole\\Desktop\\PAU\\YEAR 4\\Semester 2\\CSC 418 - Special Topics in Computer Science\\Practice\\noyewoleCSC418\\Week_1\\img'"
   ]
  },
  {
   "cell_type": "code",
   "execution_count": 4,
   "metadata": {},
   "outputs": [],
   "source": [
    "# using cv2.imread() method to read the image\n",
    "img = cv2.imread(image_path, 0)"
   ]
  },
  {
   "cell_type": "code",
   "execution_count": 5,
   "metadata": {},
   "outputs": [],
   "source": [
    "# change current directory to specified directory\n",
    "os.chdir(image_directory)"
   ]
  },
  {
   "cell_type": "code",
   "execution_count": 6,
   "metadata": {},
   "outputs": [
    {
     "name": "stdout",
     "output_type": "stream",
     "text": [
      "Before saving image\n",
      "None\n"
     ]
    }
   ],
   "source": [
    "# list files and directorires\n",
    "print(\"Before saving image\")\n",
    "print(os.chdir(image_directory))"
   ]
  },
  {
   "cell_type": "code",
   "execution_count": 7,
   "metadata": {},
   "outputs": [],
   "source": [
    "filename = 'grayImage.jpg'"
   ]
  },
  {
   "cell_type": "code",
   "execution_count": 8,
   "metadata": {},
   "outputs": [
    {
     "data": {
      "text/plain": [
       "True"
      ]
     },
     "execution_count": 8,
     "metadata": {},
     "output_type": "execute_result"
    }
   ],
   "source": [
    "# using cv2.imwrite method save the image\n",
    "cv2.imwrite(filename, img)"
   ]
  },
  {
   "cell_type": "code",
   "execution_count": 9,
   "metadata": {},
   "outputs": [
    {
     "name": "stdout",
     "output_type": "stream",
     "text": [
      "After saving image\n",
      "None\n",
      "Successfully saved\n"
     ]
    }
   ],
   "source": [
    "# list files and directories\n",
    "print(\"After saving image\")\n",
    "print(os.chdir(image_directory))\n",
    "print(\"Successfully saved\")"
   ]
  },
  {
   "cell_type": "code",
   "execution_count": null,
   "metadata": {},
   "outputs": [],
   "source": []
  }
 ],
 "metadata": {
  "kernelspec": {
   "display_name": "Python 3",
   "language": "python",
   "name": "python3"
  },
  "language_info": {
   "codemirror_mode": {
    "name": "ipython",
    "version": 3
   },
   "file_extension": ".py",
   "mimetype": "text/x-python",
   "name": "python",
   "nbconvert_exporter": "python",
   "pygments_lexer": "ipython3",
   "version": "3.11.0"
  }
 },
 "nbformat": 4,
 "nbformat_minor": 2
}
